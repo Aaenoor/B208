{
 "cells": [
  {
   "cell_type": "code",
   "execution_count": null,
   "metadata": {},
   "outputs": [],
   "source": [
    "Github Link: "
   ]
  },
  {
   "cell_type": "code",
   "execution_count": 1,
   "metadata": {},
   "outputs": [],
   "source": [
    "class Node:\n",
    "    def __init__(self, state, parent, actions, totalCost, heuristic):\n",
    "        self.state = state\n",
    "        self.parent = parent\n",
    "        self.actions = actions\n",
    "        self.totalCost = totalCost\n",
    "        self.heuristic = heuristic"
   ]
  },
  {
   "cell_type": "code",
   "execution_count": null,
   "metadata": {},
   "outputs": [],
   "source": [
    "import math\n",
    "def findMin(frontier):\n",
    "    minV = math.inf\n",
    "    node = \"\"\n",
    "    for i in frontier:\n",
    "        if minV > frontier[i][1]:\n",
    "            minV = frontier[i][1]\n",
    "            node = i\n",
    "    return node"
   ]
  },
  {
   "cell_type": "code",
   "execution_count": 20,
   "metadata": {},
   "outputs": [],
   "source": [
    "def actionSequence(graph, goalState):\n",
    "    solution = [goalState]\n",
    "    currentParent = graph[goalState].parent\n",
    "    while currentParent != None:\n",
    "        solution.append(currentParent)\n",
    "        currentParent = graph[currentParent].parent\n",
    "    solution.reverse()\n",
    "    return solution"
   ]
  },
  {
   "cell_type": "code",
   "execution_count": 24,
   "metadata": {},
   "outputs": [],
   "source": [
    "def Astar(graph, initialState, goalState):\n",
    "    frontier = dict()\n",
    "    heuristicCost = math.sqrt(((graph[goalState].heuristic[0] - graph[initialState].heuristic[0])**2) + ((graph[goalState].heuristic[1] - graph[initialState].heuristic[1])**2))\n",
    "    frontier[initialState] = (None, heuristicCost)\n",
    "    explored = dict()\n",
    "    while len(frontier) != 0:\n",
    "        currentNode = findMin(frontier)\n",
    "        del frontier[currentNode]\n",
    "        if graph[currentNode].state == goalState:\n",
    "            return actionSequence(graph, goalState)\n",
    "        heuristicCost = math.sqrt(((graph[goalState].heuristic[0] - graph[currentNode].heuristic[0])**2) + ((graph[goalState].heuristic[1] - graph[currentNode].heuristic[1])**2))\n",
    "        currentCost = graph[currentNode].totalCost\n",
    "        explored[currentNode] = (graph[currentNode].parent, heuristicCost + currentCost)\n",
    "        for child in graph[currentNode].actions:\n",
    "            currentCost = child[1] + graph[currentNode].totalCost\n",
    "            heuristicCost = math.sqrt(((graph[goalState].heuristic[0] - graph[child[0]].heuristic[0]) ** 2) + ((graph[goalState].heuristic[1] - graph[child[0]].heuristic[1]) ** 2))\n",
    "            if child[0] in explored:\n",
    "                if graph[child[0]].parent == currentNode or child[0] == initialState or explored[child[0]][1] <= currentCost + heuristicCost:\n",
    "                    continue\n",
    "            if child[0] not in frontier:\n",
    "                graph[child[0]].parent = currentNode\n",
    "                graph[child[0]].totalCost = currentCost\n",
    "                frontier[child[0]] = (graph[child[0]].parent, currentCost + heuristicCost)\n",
    "            else:\n",
    "                if frontier[child[0]][1] < currentCost + heuristicCost:\n",
    "                    graph[child[0]].parent = frontier[child[0]][0]\n",
    "                    graph[child[0]].totalCost = frontier[child[0]][1] - heuristicCost\n",
    "                else:\n",
    "                    frontier[child[0]] = (currentNode, currentCost + heuristicCost)\n",
    "                    graph[child[0]].parent = frontier[child[0]][0]\n",
    "                    graph[child[0]].totalCost = currentCost\n",
    "        "
   ]
  },
  {
   "cell_type": "code",
   "execution_count": 25,
   "metadata": {},
   "outputs": [],
   "source": [
    "graph = {\n",
    "    \"A\" : Node(\"A\", None, [(\"F\", 1)], 0, (0, 0)),\n",
    "    \"B\" : Node(\"B\", None, [(\"G\", 1), (\"C\", 1)], 0, (2, 0)),\n",
    "    \"C\" : Node(\"C\", None, [(\"B\", 1), (\"D\", 1)], 0, (3, 0)),\n",
    "    \"D\" : Node(\"D\", None, [(\"C\", 1), (\"E\", 1)], 0, (4, 0)),\n",
    "    \"E\" : Node(\"E\", None, [(\"D\", 1)], 0, (5, 0)),\n",
    "    \"F\" : Node(\"F\", None, [(\"A\", 1), (\"H\", 1)], 0, (0, 1)),\n",
    "    \"G\" : Node(\"G\", None, [(\"B\", 1), (\"J\", 1)], 0, (2, 1)),\n",
    "    \"H\" : Node(\"H\", None, [(\"F\", 1), (\"I\", 1), (\"M\", 1)], 0, (0, 2)),\n",
    "    \"I\" : Node(\"I\", None, [(\"H\", 1), (\"J\", 1), (\"N\", 1)], 0, (1, 2)),\n",
    "    \"J\" : Node(\"J\", None, [(\"G\", 1), (\"I\", 1)], 0, (2, 2)),\n",
    "    \"K\" : Node(\"K\", None, [(\"L\", 1), (\"P\", 1)], 0, (4, 2)),\n",
    "    \"L\" : Node(\"L\", None, [(\"K\", 1), (\"Q\", 1)], 0, (5, 2)),\n",
    "    \"M\" : Node(\"M\", None, [(\"H\", 1), (\"N\", 1), (\"R\", 1)], 0, (0, 3)),\n",
    "    \"N\" : Node(\"N\", None, [(\"I\", 1), (\"M\", 1), (\"S\", 1)], 0, (1, 3)),\n",
    "    \"O\" : Node(\"O\", None, [(\"P\", 1), (\"U\", 1)], 0, (3, 3)),\n",
    "    \"P\" : Node(\"P\", None, [(\"O\", 1), (\"Q\", 1)], 0, (4, 3)),\n",
    "    \"Q\" : Node(\"Q\", None, [(\"L\", 1), (\"P\", 1), (\"V\", 1)], 0, (5, 3)),\n",
    "    \"R\" : Node(\"R\", None, [(\"M\", 1) ,(\"S\", 1)], 0, (0, 4)),\n",
    "    \"S\" : Node(\"S\", None, [(\"N\", 1), (\"R\", 1), (\"T\", 1)], 0, (1, 4)),\n",
    "    \"T\" : Node(\"T\", None, [(\"S\", 1), (\"U\", 1), (\"W\", 1)], 0, (2, 4)),\n",
    "    \"U\" : Node(\"U\", None, [(\"O\", 1), (\"T\", 1)], 0, (3, 4)),\n",
    "    \"V\" : Node(\"V\", None, [(\"Q\", 1), (\"Y\", 1)], 0, (5, 4)),\n",
    "    \"W\" : Node(\"W\", None, [(\"T\", 1)], 0, (2, 5)),\n",
    "    \"X\" : Node(\"X\", None, [(\"Y\", 1)], 0, (4, 5)),\n",
    "    \"Y\" : Node(\"Y\", None, [(\"V\", 1), (\"X\", 1)], 0, (5, 5))\n",
    "}"
   ]
  },
  {
   "cell_type": "code",
   "execution_count": 26,
   "metadata": {},
   "outputs": [
    {
     "name": "stdout",
     "output_type": "stream",
     "text": [
      "['A', 'F', 'H', 'M', 'R', 'S', 'T', 'U', 'O', 'P', 'Q', 'V', 'Y']\n"
     ]
    }
   ],
   "source": [
    "solution = Astar(graph, \"A\", \"Y\")\n",
    "print(solution)"
   ]
  },
  {
   "cell_type": "code",
   "execution_count": 1,
   "metadata": {},
   "outputs": [
    {
     "ename": "NameError",
     "evalue": "name 'Node' is not defined",
     "output_type": "error",
     "traceback": [
      "\u001b[1;31m---------------------------------------------------------------------------\u001b[0m",
      "\u001b[1;31mNameError\u001b[0m                                 Traceback (most recent call last)",
      "Cell \u001b[1;32mIn[1], line 2\u001b[0m\n\u001b[0;32m      1\u001b[0m citiesGraph \u001b[38;5;241m=\u001b[39m {\n\u001b[1;32m----> 2\u001b[0m     \u001b[38;5;124m\"\u001b[39m\u001b[38;5;124mMarketplatz\u001b[39m\u001b[38;5;124m\"\u001b[39m: \u001b[43mNode\u001b[49m(\u001b[38;5;124m\"\u001b[39m\u001b[38;5;124mMarketplatz\u001b[39m\u001b[38;5;124m\"\u001b[39m, \u001b[38;5;28;01mNone\u001b[39;00m, [(\u001b[38;5;124m\"\u001b[39m\u001b[38;5;124mS\u001b[39m\u001b[38;5;124m\"\u001b[39m, \u001b[38;5;241m87\u001b[39m)], \u001b[38;5;241m0\u001b[39m),\n\u001b[0;32m      3\u001b[0m     \u001b[38;5;124m\"\u001b[39m\u001b[38;5;124mTrainStation\u001b[39m\u001b[38;5;124m\"\u001b[39m: Node(\u001b[38;5;124m\"\u001b[39m\u001b[38;5;124mTrainStation\u001b[39m\u001b[38;5;124m\"\u001b[39m, \u001b[38;5;28;01mNone\u001b[39;00m, [(\u001b[38;5;124m\"\u001b[39m\u001b[38;5;124mKK\u001b[39m\u001b[38;5;124m\"\u001b[39m, \u001b[38;5;241m87\u001b[39m)], \u001b[38;5;241m0\u001b[39m),\n\u001b[0;32m      4\u001b[0m     \u001b[38;5;124m\"\u001b[39m\u001b[38;5;124mS\u001b[39m\u001b[38;5;124m\"\u001b[39m: Node(\u001b[38;5;124m\"\u001b[39m\u001b[38;5;124mS\u001b[39m\u001b[38;5;124m\"\u001b[39m, \u001b[38;5;28;01mNone\u001b[39;00m, [(\u001b[38;5;124m\"\u001b[39m\u001b[38;5;124mMarketplatz\u001b[39m\u001b[38;5;124m\"\u001b[39m, \u001b[38;5;241m87\u001b[39m), (\u001b[38;5;124m\"\u001b[39m\u001b[38;5;124mSt\u001b[39m\u001b[38;5;124m\"\u001b[39m, \u001b[38;5;241m142\u001b[39m), (\u001b[38;5;124m\"\u001b[39m\u001b[38;5;124mKK\u001b[39m\u001b[38;5;124m\"\u001b[39m, \u001b[38;5;241m98\u001b[39m)], \u001b[38;5;241m0\u001b[39m),\n\u001b[0;32m      5\u001b[0m     \u001b[38;5;124m\"\u001b[39m\u001b[38;5;124mKK\u001b[39m\u001b[38;5;124m\"\u001b[39m: Node(\u001b[38;5;124m\"\u001b[39m\u001b[38;5;124mKK\u001b[39m\u001b[38;5;124m\"\u001b[39m, \u001b[38;5;28;01mNone\u001b[39;00m, [(\u001b[38;5;124m\"\u001b[39m\u001b[38;5;124mTrainStation\u001b[39m\u001b[38;5;124m\"\u001b[39m, \u001b[38;5;241m87\u001b[39m), (\u001b[38;5;124m\"\u001b[39m\u001b[38;5;124mS\u001b[39m\u001b[38;5;124m\"\u001b[39m, \u001b[38;5;241m98\u001b[39m), (\u001b[38;5;124m\"\u001b[39m\u001b[38;5;124mKKN\u001b[39m\u001b[38;5;124m\"\u001b[39m, \u001b[38;5;241m85\u001b[39m)], \u001b[38;5;241m0\u001b[39m),\n\u001b[0;32m      6\u001b[0m     \u001b[38;5;124m\"\u001b[39m\u001b[38;5;124mSt\u001b[39m\u001b[38;5;124m\"\u001b[39m: Node(\u001b[38;5;124m\"\u001b[39m\u001b[38;5;124mSt\u001b[39m\u001b[38;5;124m\"\u001b[39m, \u001b[38;5;28;01mNone\u001b[39;00m, [(\u001b[38;5;124m\"\u001b[39m\u001b[38;5;124mS\u001b[39m\u001b[38;5;124m\"\u001b[39m, \u001b[38;5;241m142\u001b[39m), (\u001b[38;5;124m\"\u001b[39m\u001b[38;5;124mKKN\u001b[39m\u001b[38;5;124m\"\u001b[39m, \u001b[38;5;241m86\u001b[39m), (\u001b[38;5;124m\"\u001b[39m\u001b[38;5;124mDia\u001b[39m\u001b[38;5;124m\"\u001b[39m, \u001b[38;5;241m83\u001b[39m)], \u001b[38;5;241m0\u001b[39m),\n\u001b[0;32m      7\u001b[0m     \u001b[38;5;124m\"\u001b[39m\u001b[38;5;124mKKN\u001b[39m\u001b[38;5;124m\"\u001b[39m: Node(\u001b[38;5;124m\"\u001b[39m\u001b[38;5;124mKKN\u001b[39m\u001b[38;5;124m\"\u001b[39m, \u001b[38;5;28;01mNone\u001b[39;00m, [(\u001b[38;5;124m\"\u001b[39m\u001b[38;5;124mKK\u001b[39m\u001b[38;5;124m\"\u001b[39m, \u001b[38;5;241m85\u001b[39m), (\u001b[38;5;124m\"\u001b[39m\u001b[38;5;124mSt\u001b[39m\u001b[38;5;124m\"\u001b[39m, \u001b[38;5;241m86\u001b[39m)], \u001b[38;5;241m0\u001b[39m),\n\u001b[0;32m      8\u001b[0m     \u001b[38;5;124m\"\u001b[39m\u001b[38;5;124mDia\u001b[39m\u001b[38;5;124m\"\u001b[39m: Node(\u001b[38;5;124m\"\u001b[39m\u001b[38;5;124mDia\u001b[39m\u001b[38;5;124m\"\u001b[39m, \u001b[38;5;28;01mNone\u001b[39;00m, [(\u001b[38;5;124m\"\u001b[39m\u001b[38;5;124mSt\u001b[39m\u001b[38;5;124m\"\u001b[39m, \u001b[38;5;241m83\u001b[39m)], \u001b[38;5;241m0\u001b[39m)\n\u001b[0;32m      9\u001b[0m }\n\u001b[0;32m     10\u001b[0m solution \u001b[38;5;241m=\u001b[39m Astar(citiesGraph, \u001b[38;5;124m\"\u001b[39m\u001b[38;5;124mMarketplatz\u001b[39m\u001b[38;5;124m\"\u001b[39m, \u001b[38;5;124m\"\u001b[39m\u001b[38;5;124mDia\u001b[39m\u001b[38;5;124m\"\u001b[39m)\n\u001b[0;32m     11\u001b[0m \u001b[38;5;28mprint\u001b[39m(solution)\n",
      "\u001b[1;31mNameError\u001b[0m: name 'Node' is not defined"
     ]
    }
   ],
   "source": [
    "citiesGraph = {\n",
    "    \"Marketplatz\": Node(\"Marketplatz\", None, [(\"S\", 87)], 0),\n",
    "    \"TrainStation\": Node(\"TrainStation\", None, [(\"KK\", 87)], 0),\n",
    "    \"S\": Node(\"S\", None, [(\"Marketplatz\", 87), (\"St\", 142), (\"KK\", 98)], 0),\n",
    "    \"KK\": Node(\"KK\", None, [(\"TrainStation\", 87), (\"S\", 98), (\"KKN\", 85)], 0),\n",
    "    \"St\": Node(\"St\", None, [(\"S\", 142), (\"KKN\", 86), (\"Dia\", 83)], 0),\n",
    "    \"KKN\": Node(\"KKN\", None, [(\"KK\", 85), (\"St\", 86)], 0),\n",
    "    \"Dia\": Node(\"Dia\", None, [(\"St\", 83)], 0)\n",
    "}\n",
    "solution = Astar(citiesGraph, \"Marketplatz\", \"Dia\")\n",
    "print(solution)"
   ]
  },
  {
   "cell_type": "code",
   "execution_count": null,
   "metadata": {},
   "outputs": [],
   "source": []
  }
 ],
 "metadata": {
  "kernelspec": {
   "display_name": "Python 3 (ipykernel)",
   "language": "python",
   "name": "python3"
  },
  "language_info": {
   "codemirror_mode": {
    "name": "ipython",
    "version": 3
   },
   "file_extension": ".py",
   "mimetype": "text/x-python",
   "name": "python",
   "nbconvert_exporter": "python",
   "pygments_lexer": "ipython3",
   "version": "3.11.4"
  }
 },
 "nbformat": 4,
 "nbformat_minor": 4
}
